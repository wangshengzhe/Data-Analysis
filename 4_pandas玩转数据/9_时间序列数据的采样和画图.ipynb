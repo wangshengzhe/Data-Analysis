{
 "cells": [
  {
   "cell_type": "code",
   "execution_count": 2,
   "metadata": {},
   "outputs": [],
   "source": [
    "import numpy as np\n",
    "import pandas as pd\n",
    "from pandas import Series,DataFrame"
   ]
  },
  {
   "cell_type": "code",
   "execution_count": 5,
   "metadata": {},
   "outputs": [
    {
     "data": {
      "text/plain": [
       "DatetimeIndex(['2016-01-01', '2016-01-02', '2016-01-03', '2016-01-04',\n",
       "               '2016-01-05', '2016-01-06', '2016-01-07', '2016-01-08',\n",
       "               '2016-01-09', '2016-01-10',\n",
       "               ...\n",
       "               '2016-12-22', '2016-12-23', '2016-12-24', '2016-12-25',\n",
       "               '2016-12-26', '2016-12-27', '2016-12-28', '2016-12-29',\n",
       "               '2016-12-30', '2016-12-31'],\n",
       "              dtype='datetime64[ns]', length=366, freq='D')"
      ]
     },
     "execution_count": 5,
     "metadata": {},
     "output_type": "execute_result"
    }
   ],
   "source": [
    "t_range = pd.date_range(\"2016-01-01\",\"2016-12-31\")\n",
    "t_range"
   ]
  },
  {
   "cell_type": "code",
   "execution_count": 7,
   "metadata": {},
   "outputs": [
    {
     "data": {
      "text/plain": [
       "2016-01-01    1.137440\n",
       "2016-01-02    0.480018\n",
       "2016-01-03    0.321773\n",
       "2016-01-04    0.874510\n",
       "2016-01-05    2.534264\n",
       "2016-01-06   -0.295038\n",
       "2016-01-07    0.569381\n",
       "2016-01-08    0.201026\n",
       "2016-01-09    1.126080\n",
       "2016-01-10   -2.190664\n",
       "2016-01-11    0.566911\n",
       "2016-01-12   -1.788103\n",
       "2016-01-13    0.714203\n",
       "2016-01-14   -0.622372\n",
       "2016-01-15   -0.696664\n",
       "2016-01-16   -2.014250\n",
       "2016-01-17   -0.760193\n",
       "2016-01-18    0.993193\n",
       "2016-01-19    1.069654\n",
       "2016-01-20   -0.083077\n",
       "2016-01-21   -2.018757\n",
       "2016-01-22   -0.863419\n",
       "2016-01-23   -0.744132\n",
       "2016-01-24    0.137996\n",
       "2016-01-25    1.053631\n",
       "2016-01-26    0.905238\n",
       "2016-01-27   -1.296546\n",
       "2016-01-28   -0.667398\n",
       "2016-01-29   -0.866760\n",
       "2016-01-30    0.621291\n",
       "                ...   \n",
       "2016-12-02   -0.163273\n",
       "2016-12-03   -1.404083\n",
       "2016-12-04   -0.505796\n",
       "2016-12-05    0.450561\n",
       "2016-12-06   -0.122038\n",
       "2016-12-07    1.390510\n",
       "2016-12-08    1.114872\n",
       "2016-12-09   -1.123838\n",
       "2016-12-10   -1.676418\n",
       "2016-12-11   -0.366833\n",
       "2016-12-12   -1.526623\n",
       "2016-12-13   -0.834965\n",
       "2016-12-14   -0.014852\n",
       "2016-12-15   -1.112742\n",
       "2016-12-16   -0.082243\n",
       "2016-12-17    0.072348\n",
       "2016-12-18   -0.480591\n",
       "2016-12-19    0.504637\n",
       "2016-12-20   -0.843775\n",
       "2016-12-21   -1.775968\n",
       "2016-12-22    2.443102\n",
       "2016-12-23    1.053069\n",
       "2016-12-24    0.262551\n",
       "2016-12-25   -0.226652\n",
       "2016-12-26   -1.989873\n",
       "2016-12-27    0.724252\n",
       "2016-12-28   -0.823934\n",
       "2016-12-29    0.384670\n",
       "2016-12-30   -2.330083\n",
       "2016-12-31    1.578064\n",
       "Freq: D, Length: 366, dtype: float64"
      ]
     },
     "execution_count": 7,
     "metadata": {},
     "output_type": "execute_result"
    }
   ],
   "source": [
    "s1 = Series(np.random.randn(len(t_range)),index= t_range)\n",
    "s1"
   ]
  },
  {
   "cell_type": "code",
   "execution_count": 8,
   "metadata": {},
   "outputs": [
    {
     "data": {
      "text/plain": [
       "-0.08285162296186896"
      ]
     },
     "execution_count": 8,
     "metadata": {},
     "output_type": "execute_result"
    }
   ],
   "source": [
    "s1[\"2016-01\"].mean()"
   ]
  },
  {
   "cell_type": "code",
   "execution_count": 11,
   "metadata": {},
   "outputs": [
    {
     "data": {
      "text/plain": [
       "2016-01-31   -0.082852\n",
       "2016-02-29   -0.286002\n",
       "2016-03-31   -0.110266\n",
       "2016-04-30    0.109656\n",
       "2016-05-31    0.077070\n",
       "2016-06-30   -0.426909\n",
       "2016-07-31    0.033941\n",
       "2016-08-31    0.120998\n",
       "2016-09-30   -0.143000\n",
       "2016-10-31    0.122913\n",
       "2016-11-30   -0.003688\n",
       "2016-12-31   -0.234354\n",
       "Freq: M, dtype: float64"
      ]
     },
     "execution_count": 11,
     "metadata": {},
     "output_type": "execute_result"
    }
   ],
   "source": [
    "s1_month = s1.resample('m').mean()\n",
    "s1_month"
   ]
  },
  {
   "cell_type": "code",
   "execution_count": 12,
   "metadata": {},
   "outputs": [
    {
     "data": {
      "text/plain": [
       "DatetimeIndex(['2016-01-31', '2016-02-29', '2016-03-31', '2016-04-30',\n",
       "               '2016-05-31', '2016-06-30', '2016-07-31', '2016-08-31',\n",
       "               '2016-09-30', '2016-10-31', '2016-11-30', '2016-12-31'],\n",
       "              dtype='datetime64[ns]', freq='M')"
      ]
     },
     "execution_count": 12,
     "metadata": {},
     "output_type": "execute_result"
    }
   ],
   "source": [
    "s1_month.index"
   ]
  },
  {
   "cell_type": "code",
   "execution_count": 15,
   "metadata": {},
   "outputs": [
    {
     "data": {
      "text/plain": [
       "2016-01-01 00:00:00    1.137440\n",
       "2016-01-01 01:00:00    1.137440\n",
       "2016-01-01 02:00:00    1.137440\n",
       "2016-01-01 03:00:00    1.137440\n",
       "2016-01-01 04:00:00    1.137440\n",
       "2016-01-01 05:00:00    1.137440\n",
       "2016-01-01 06:00:00    1.137440\n",
       "2016-01-01 07:00:00    1.137440\n",
       "2016-01-01 08:00:00    1.137440\n",
       "2016-01-01 09:00:00    1.137440\n",
       "2016-01-01 10:00:00    1.137440\n",
       "2016-01-01 11:00:00    1.137440\n",
       "2016-01-01 12:00:00    1.137440\n",
       "2016-01-01 13:00:00    1.137440\n",
       "2016-01-01 14:00:00    1.137440\n",
       "2016-01-01 15:00:00    1.137440\n",
       "2016-01-01 16:00:00    1.137440\n",
       "2016-01-01 17:00:00    1.137440\n",
       "2016-01-01 18:00:00    1.137440\n",
       "2016-01-01 19:00:00    1.137440\n",
       "2016-01-01 20:00:00    1.137440\n",
       "2016-01-01 21:00:00    1.137440\n",
       "2016-01-01 22:00:00    1.137440\n",
       "2016-01-01 23:00:00    1.137440\n",
       "2016-01-02 00:00:00    0.480018\n",
       "2016-01-02 01:00:00    0.480018\n",
       "2016-01-02 02:00:00    0.480018\n",
       "2016-01-02 03:00:00    0.480018\n",
       "2016-01-02 04:00:00    0.480018\n",
       "2016-01-02 05:00:00    0.480018\n",
       "                         ...   \n",
       "2016-12-29 19:00:00    0.384670\n",
       "2016-12-29 20:00:00    0.384670\n",
       "2016-12-29 21:00:00    0.384670\n",
       "2016-12-29 22:00:00    0.384670\n",
       "2016-12-29 23:00:00    0.384670\n",
       "2016-12-30 00:00:00   -2.330083\n",
       "2016-12-30 01:00:00   -2.330083\n",
       "2016-12-30 02:00:00   -2.330083\n",
       "2016-12-30 03:00:00   -2.330083\n",
       "2016-12-30 04:00:00   -2.330083\n",
       "2016-12-30 05:00:00   -2.330083\n",
       "2016-12-30 06:00:00   -2.330083\n",
       "2016-12-30 07:00:00   -2.330083\n",
       "2016-12-30 08:00:00   -2.330083\n",
       "2016-12-30 09:00:00   -2.330083\n",
       "2016-12-30 10:00:00   -2.330083\n",
       "2016-12-30 11:00:00   -2.330083\n",
       "2016-12-30 12:00:00   -2.330083\n",
       "2016-12-30 13:00:00   -2.330083\n",
       "2016-12-30 14:00:00   -2.330083\n",
       "2016-12-30 15:00:00   -2.330083\n",
       "2016-12-30 16:00:00   -2.330083\n",
       "2016-12-30 17:00:00   -2.330083\n",
       "2016-12-30 18:00:00   -2.330083\n",
       "2016-12-30 19:00:00   -2.330083\n",
       "2016-12-30 20:00:00   -2.330083\n",
       "2016-12-30 21:00:00   -2.330083\n",
       "2016-12-30 22:00:00   -2.330083\n",
       "2016-12-30 23:00:00   -2.330083\n",
       "2016-12-31 00:00:00    1.578064\n",
       "Freq: H, Length: 8761, dtype: float64"
      ]
     },
     "execution_count": 15,
     "metadata": {},
     "output_type": "execute_result"
    }
   ],
   "source": [
    "s1.resample(\"H\").ffill()  # forward fill 往前填"
   ]
  },
  {
   "cell_type": "code",
   "execution_count": 16,
   "metadata": {},
   "outputs": [
    {
     "data": {
      "text/plain": [
       "2016-01-01 00:00:00    1.137440\n",
       "2016-01-01 01:00:00    0.480018\n",
       "2016-01-01 02:00:00    0.480018\n",
       "2016-01-01 03:00:00    0.480018\n",
       "2016-01-01 04:00:00    0.480018\n",
       "2016-01-01 05:00:00    0.480018\n",
       "2016-01-01 06:00:00    0.480018\n",
       "2016-01-01 07:00:00    0.480018\n",
       "2016-01-01 08:00:00    0.480018\n",
       "2016-01-01 09:00:00    0.480018\n",
       "2016-01-01 10:00:00    0.480018\n",
       "2016-01-01 11:00:00    0.480018\n",
       "2016-01-01 12:00:00    0.480018\n",
       "2016-01-01 13:00:00    0.480018\n",
       "2016-01-01 14:00:00    0.480018\n",
       "2016-01-01 15:00:00    0.480018\n",
       "2016-01-01 16:00:00    0.480018\n",
       "2016-01-01 17:00:00    0.480018\n",
       "2016-01-01 18:00:00    0.480018\n",
       "2016-01-01 19:00:00    0.480018\n",
       "2016-01-01 20:00:00    0.480018\n",
       "2016-01-01 21:00:00    0.480018\n",
       "2016-01-01 22:00:00    0.480018\n",
       "2016-01-01 23:00:00    0.480018\n",
       "2016-01-02 00:00:00    0.480018\n",
       "2016-01-02 01:00:00    0.321773\n",
       "2016-01-02 02:00:00    0.321773\n",
       "2016-01-02 03:00:00    0.321773\n",
       "2016-01-02 04:00:00    0.321773\n",
       "2016-01-02 05:00:00    0.321773\n",
       "                         ...   \n",
       "2016-12-29 19:00:00   -2.330083\n",
       "2016-12-29 20:00:00   -2.330083\n",
       "2016-12-29 21:00:00   -2.330083\n",
       "2016-12-29 22:00:00   -2.330083\n",
       "2016-12-29 23:00:00   -2.330083\n",
       "2016-12-30 00:00:00   -2.330083\n",
       "2016-12-30 01:00:00    1.578064\n",
       "2016-12-30 02:00:00    1.578064\n",
       "2016-12-30 03:00:00    1.578064\n",
       "2016-12-30 04:00:00    1.578064\n",
       "2016-12-30 05:00:00    1.578064\n",
       "2016-12-30 06:00:00    1.578064\n",
       "2016-12-30 07:00:00    1.578064\n",
       "2016-12-30 08:00:00    1.578064\n",
       "2016-12-30 09:00:00    1.578064\n",
       "2016-12-30 10:00:00    1.578064\n",
       "2016-12-30 11:00:00    1.578064\n",
       "2016-12-30 12:00:00    1.578064\n",
       "2016-12-30 13:00:00    1.578064\n",
       "2016-12-30 14:00:00    1.578064\n",
       "2016-12-30 15:00:00    1.578064\n",
       "2016-12-30 16:00:00    1.578064\n",
       "2016-12-30 17:00:00    1.578064\n",
       "2016-12-30 18:00:00    1.578064\n",
       "2016-12-30 19:00:00    1.578064\n",
       "2016-12-30 20:00:00    1.578064\n",
       "2016-12-30 21:00:00    1.578064\n",
       "2016-12-30 22:00:00    1.578064\n",
       "2016-12-30 23:00:00    1.578064\n",
       "2016-12-31 00:00:00    1.578064\n",
       "Freq: H, Length: 8761, dtype: float64"
      ]
     },
     "execution_count": 16,
     "metadata": {},
     "output_type": "execute_result"
    }
   ],
   "source": [
    "s1.resample(\"h\").bfill() #  backfill 往后填充 "
   ]
  },
  {
   "cell_type": "code",
   "execution_count": 18,
   "metadata": {},
   "outputs": [
    {
     "data": {
      "text/plain": [
       "DatetimeIndex(['2016-01-01 00:00:00', '2016-01-01 01:00:00',\n",
       "               '2016-01-01 02:00:00', '2016-01-01 03:00:00',\n",
       "               '2016-01-01 04:00:00', '2016-01-01 05:00:00',\n",
       "               '2016-01-01 06:00:00', '2016-01-01 07:00:00',\n",
       "               '2016-01-01 08:00:00', '2016-01-01 09:00:00',\n",
       "               ...\n",
       "               '2016-12-30 15:00:00', '2016-12-30 16:00:00',\n",
       "               '2016-12-30 17:00:00', '2016-12-30 18:00:00',\n",
       "               '2016-12-30 19:00:00', '2016-12-30 20:00:00',\n",
       "               '2016-12-30 21:00:00', '2016-12-30 22:00:00',\n",
       "               '2016-12-30 23:00:00', '2016-12-31 00:00:00'],\n",
       "              dtype='datetime64[ns]', length=8761, freq='H')"
      ]
     },
     "execution_count": 18,
     "metadata": {},
     "output_type": "execute_result"
    }
   ],
   "source": [
    "t_range = pd.date_range(\"2016-01-01\",\"2016-12-31\",freq =\"H\")\n",
    "t_range"
   ]
  },
  {
   "cell_type": "code",
   "execution_count": 19,
   "metadata": {},
   "outputs": [
    {
     "data": {
      "text/html": [
       "<div>\n",
       "<style scoped>\n",
       "    .dataframe tbody tr th:only-of-type {\n",
       "        vertical-align: middle;\n",
       "    }\n",
       "\n",
       "    .dataframe tbody tr th {\n",
       "        vertical-align: top;\n",
       "    }\n",
       "\n",
       "    .dataframe thead th {\n",
       "        text-align: right;\n",
       "    }\n",
       "</style>\n",
       "<table border=\"1\" class=\"dataframe\">\n",
       "  <thead>\n",
       "    <tr style=\"text-align: right;\">\n",
       "      <th></th>\n",
       "    </tr>\n",
       "  </thead>\n",
       "  <tbody>\n",
       "    <tr>\n",
       "      <th>2016-01-01 00:00:00</th>\n",
       "    </tr>\n",
       "    <tr>\n",
       "      <th>2016-01-01 01:00:00</th>\n",
       "    </tr>\n",
       "    <tr>\n",
       "      <th>2016-01-01 02:00:00</th>\n",
       "    </tr>\n",
       "    <tr>\n",
       "      <th>2016-01-01 03:00:00</th>\n",
       "    </tr>\n",
       "    <tr>\n",
       "      <th>2016-01-01 04:00:00</th>\n",
       "    </tr>\n",
       "  </tbody>\n",
       "</table>\n",
       "</div>"
      ],
      "text/plain": [
       "Empty DataFrame\n",
       "Columns: []\n",
       "Index: [2016-01-01 00:00:00, 2016-01-01 01:00:00, 2016-01-01 02:00:00, 2016-01-01 03:00:00, 2016-01-01 04:00:00]"
      ]
     },
     "execution_count": 19,
     "metadata": {},
     "output_type": "execute_result"
    }
   ],
   "source": [
    "stock_df = DataFrame(index = t_range)  # 仅仅只有索引的dataframe\n",
    "stock_df.head()"
   ]
  },
  {
   "cell_type": "code",
   "execution_count": 20,
   "metadata": {},
   "outputs": [
    {
     "data": {
      "text/html": [
       "<div>\n",
       "<style scoped>\n",
       "    .dataframe tbody tr th:only-of-type {\n",
       "        vertical-align: middle;\n",
       "    }\n",
       "\n",
       "    .dataframe tbody tr th {\n",
       "        vertical-align: top;\n",
       "    }\n",
       "\n",
       "    .dataframe thead th {\n",
       "        text-align: right;\n",
       "    }\n",
       "</style>\n",
       "<table border=\"1\" class=\"dataframe\">\n",
       "  <thead>\n",
       "    <tr style=\"text-align: right;\">\n",
       "      <th></th>\n",
       "      <th>BABA</th>\n",
       "    </tr>\n",
       "  </thead>\n",
       "  <tbody>\n",
       "    <tr>\n",
       "      <th>2016-01-01 00:00:00</th>\n",
       "      <td>128</td>\n",
       "    </tr>\n",
       "    <tr>\n",
       "      <th>2016-01-01 01:00:00</th>\n",
       "      <td>148</td>\n",
       "    </tr>\n",
       "    <tr>\n",
       "      <th>2016-01-01 02:00:00</th>\n",
       "      <td>111</td>\n",
       "    </tr>\n",
       "    <tr>\n",
       "      <th>2016-01-01 03:00:00</th>\n",
       "      <td>122</td>\n",
       "    </tr>\n",
       "    <tr>\n",
       "      <th>2016-01-01 04:00:00</th>\n",
       "      <td>156</td>\n",
       "    </tr>\n",
       "  </tbody>\n",
       "</table>\n",
       "</div>"
      ],
      "text/plain": [
       "                     BABA\n",
       "2016-01-01 00:00:00   128\n",
       "2016-01-01 01:00:00   148\n",
       "2016-01-01 02:00:00   111\n",
       "2016-01-01 03:00:00   122\n",
       "2016-01-01 04:00:00   156"
      ]
     },
     "execution_count": 20,
     "metadata": {},
     "output_type": "execute_result"
    }
   ],
   "source": [
    "stock_df[\"BABA\"] = np.random.randint(80,160,size = len(t_range))\n",
    "stock_df.head()"
   ]
  },
  {
   "cell_type": "code",
   "execution_count": 21,
   "metadata": {},
   "outputs": [
    {
     "data": {
      "text/html": [
       "<div>\n",
       "<style scoped>\n",
       "    .dataframe tbody tr th:only-of-type {\n",
       "        vertical-align: middle;\n",
       "    }\n",
       "\n",
       "    .dataframe tbody tr th {\n",
       "        vertical-align: top;\n",
       "    }\n",
       "\n",
       "    .dataframe thead th {\n",
       "        text-align: right;\n",
       "    }\n",
       "</style>\n",
       "<table border=\"1\" class=\"dataframe\">\n",
       "  <thead>\n",
       "    <tr style=\"text-align: right;\">\n",
       "      <th></th>\n",
       "      <th>BABA</th>\n",
       "      <th>TENGENT</th>\n",
       "    </tr>\n",
       "  </thead>\n",
       "  <tbody>\n",
       "    <tr>\n",
       "      <th>2016-01-01 00:00:00</th>\n",
       "      <td>128</td>\n",
       "      <td>36</td>\n",
       "    </tr>\n",
       "    <tr>\n",
       "      <th>2016-01-01 01:00:00</th>\n",
       "      <td>148</td>\n",
       "      <td>46</td>\n",
       "    </tr>\n",
       "    <tr>\n",
       "      <th>2016-01-01 02:00:00</th>\n",
       "      <td>111</td>\n",
       "      <td>35</td>\n",
       "    </tr>\n",
       "    <tr>\n",
       "      <th>2016-01-01 03:00:00</th>\n",
       "      <td>122</td>\n",
       "      <td>35</td>\n",
       "    </tr>\n",
       "    <tr>\n",
       "      <th>2016-01-01 04:00:00</th>\n",
       "      <td>156</td>\n",
       "      <td>39</td>\n",
       "    </tr>\n",
       "  </tbody>\n",
       "</table>\n",
       "</div>"
      ],
      "text/plain": [
       "                     BABA  TENGENT\n",
       "2016-01-01 00:00:00   128       36\n",
       "2016-01-01 01:00:00   148       46\n",
       "2016-01-01 02:00:00   111       35\n",
       "2016-01-01 03:00:00   122       35\n",
       "2016-01-01 04:00:00   156       39"
      ]
     },
     "execution_count": 21,
     "metadata": {},
     "output_type": "execute_result"
    }
   ],
   "source": [
    "stock_df[\"TENGENT\"] = np.random.randint(30,50,size = len(t_range))\n",
    "stock_df.head()"
   ]
  },
  {
   "cell_type": "code",
   "execution_count": 27,
   "metadata": {},
   "outputs": [
    {
     "data": {
      "text/plain": [
       "<matplotlib.axes._subplots.AxesSubplot at 0x2403b205be0>"
      ]
     },
     "execution_count": 27,
     "metadata": {},
     "output_type": "execute_result"
    },
    {
     "data": {
      "image/png": "[encoded data removed]",
      "text/plain": [
       "<Figure size 432x288 with 1 Axes>"
      ]
     },
     "metadata": {},
     "output_type": "display_data"
    }
   ],
   "source": [
    "stock_df.plot()"
   ]
  },
  {
   "cell_type": "code",
   "execution_count": 28,
   "metadata": {},
   "outputs": [],
   "source": [
    "import matplotlib.pyplot as plt\n",
    "plt.show()"
   ]
  },
  {
   "cell_type": "code",
   "execution_count": 29,
   "metadata": {},
   "outputs": [
    {
     "name": "stdout",
     "output_type": "stream",
     "text": [
      "<class 'pandas.core.frame.DataFrame'>\n"
     ]
    }
   ],
   "source": [
    "weekly_df = DataFrame()\n",
    "print(type(weekly_df))"
   ]
  },
  {
   "cell_type": "code",
   "execution_count": 31,
   "metadata": {},
   "outputs": [],
   "source": [
    "weekly_df[\"BABA\"] = stock_df[\"BABA\"].resample(\"w\").mean()"
   ]
  },
  {
   "cell_type": "code",
   "execution_count": 34,
   "metadata": {},
   "outputs": [],
   "source": [
    "weekly_df[\"TENGENT\"] = stock_df[\"TENGENT\"].resample(\"w\").mean()"
   ]
  },
  {
   "cell_type": "code",
   "execution_count": 35,
   "metadata": {},
   "outputs": [
    {
     "data": {
      "text/html": [
       "<div>\n",
       "<style scoped>\n",
       "    .dataframe tbody tr th:only-of-type {\n",
       "        vertical-align: middle;\n",
       "    }\n",
       "\n",
       "    .dataframe tbody tr th {\n",
       "        vertical-align: top;\n",
       "    }\n",
       "\n",
       "    .dataframe thead th {\n",
       "        text-align: right;\n",
       "    }\n",
       "</style>\n",
       "<table border=\"1\" class=\"dataframe\">\n",
       "  <thead>\n",
       "    <tr style=\"text-align: right;\">\n",
       "      <th></th>\n",
       "      <th>BABA</th>\n",
       "      <th>TENGENT</th>\n",
       "    </tr>\n",
       "  </thead>\n",
       "  <tbody>\n",
       "    <tr>\n",
       "      <th>2016-01-03</th>\n",
       "      <td>118.847222</td>\n",
       "      <td>39.472222</td>\n",
       "    </tr>\n",
       "    <tr>\n",
       "      <th>2016-01-10</th>\n",
       "      <td>122.083333</td>\n",
       "      <td>39.922619</td>\n",
       "    </tr>\n",
       "    <tr>\n",
       "      <th>2016-01-17</th>\n",
       "      <td>116.500000</td>\n",
       "      <td>40.017857</td>\n",
       "    </tr>\n",
       "    <tr>\n",
       "      <th>2016-01-24</th>\n",
       "      <td>120.625000</td>\n",
       "      <td>39.440476</td>\n",
       "    </tr>\n",
       "    <tr>\n",
       "      <th>2016-01-31</th>\n",
       "      <td>117.845238</td>\n",
       "      <td>39.303571</td>\n",
       "    </tr>\n",
       "  </tbody>\n",
       "</table>\n",
       "</div>"
      ],
      "text/plain": [
       "                  BABA    TENGENT\n",
       "2016-01-03  118.847222  39.472222\n",
       "2016-01-10  122.083333  39.922619\n",
       "2016-01-17  116.500000  40.017857\n",
       "2016-01-24  120.625000  39.440476\n",
       "2016-01-31  117.845238  39.303571"
      ]
     },
     "execution_count": 35,
     "metadata": {},
     "output_type": "execute_result"
    }
   ],
   "source": [
    "weekly_df.head()"
   ]
  },
  {
   "cell_type": "code",
   "execution_count": 36,
   "metadata": {},
   "outputs": [
    {
     "data": {
      "image/png": "[encoded data removed]",
      "text/plain": [
       "<Figure size 432x288 with 1 Axes>"
      ]
     },
     "metadata": {},
     "output_type": "display_data"
    }
   ],
   "source": [
    "weekly_df.plot()\n",
    "plt.show()"
   ]
  },
  {
   "cell_type": "code",
   "execution_count": null,
   "metadata": {},
   "outputs": [],
   "source": []
  }
 ],
 "metadata": {
  "kernelspec": {
   "display_name": "Python 3",
   "language": "python",
   "name": "python3"
  },
  "language_info": {
   "codemirror_mode": {
    "name": "ipython",
    "version": 3
   },
   "file_extension": ".py",
   "mimetype": "text/x-python",
   "name": "python",
   "nbconvert_exporter": "python",
   "pygments_lexer": "ipython3",
   "version": "3.6.5"
  }
 },
 "nbformat": 4,
 "nbformat_minor": 2
}
