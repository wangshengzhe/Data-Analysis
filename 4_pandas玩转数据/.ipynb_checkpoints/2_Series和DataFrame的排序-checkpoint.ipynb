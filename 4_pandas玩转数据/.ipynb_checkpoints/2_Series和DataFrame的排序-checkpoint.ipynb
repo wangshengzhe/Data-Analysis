{
 "cells": [
  {
   "cell_type": "code",
   "execution_count": 1,
   "metadata": {},
   "outputs": [],
   "source": [
    "import numpy as np\n",
    "import pandas as pd \n",
    "from pandas import Series,DataFrame"
   ]
  },
  {
   "cell_type": "markdown",
   "metadata": {},
   "source": [
    "# Series  的排序"
   ]
  },
  {
   "cell_type": "code",
   "execution_count": 2,
   "metadata": {},
   "outputs": [
    {
     "data": {
      "text/plain": [
       "0    0.770644\n",
       "1   -1.183551\n",
       "2   -0.529428\n",
       "3    0.484324\n",
       "4    0.568646\n",
       "5   -1.018802\n",
       "6    0.258898\n",
       "7   -0.460074\n",
       "8   -0.303107\n",
       "9    0.071199\n",
       "dtype: float64"
      ]
     },
     "execution_count": 2,
     "metadata": {},
     "output_type": "execute_result"
    }
   ],
   "source": [
    "s1 = Series(np.random.randn(10))\n",
    "s1"
   ]
  },
  {
   "cell_type": "code",
   "execution_count": 3,
   "metadata": {},
   "outputs": [
    {
     "data": {
      "text/plain": [
       "array([ 0.77064375, -1.18355145, -0.52942778,  0.48432446,  0.56864632,\n",
       "       -1.01880161,  0.25889792, -0.46007434, -0.30310672,  0.07119903])"
      ]
     },
     "execution_count": 3,
     "metadata": {},
     "output_type": "execute_result"
    }
   ],
   "source": [
    "s1.values"
   ]
  },
  {
   "cell_type": "code",
   "execution_count": 4,
   "metadata": {},
   "outputs": [
    {
     "data": {
      "text/plain": [
       "RangeIndex(start=0, stop=10, step=1)"
      ]
     },
     "execution_count": 4,
     "metadata": {},
     "output_type": "execute_result"
    }
   ],
   "source": [
    "s1.index"
   ]
  },
  {
   "cell_type": "code",
   "execution_count": 5,
   "metadata": {},
   "outputs": [
    {
     "data": {
      "text/plain": [
       "1   -1.183551\n",
       "5   -1.018802\n",
       "2   -0.529428\n",
       "7   -0.460074\n",
       "8   -0.303107\n",
       "9    0.071199\n",
       "6    0.258898\n",
       "3    0.484324\n",
       "4    0.568646\n",
       "0    0.770644\n",
       "dtype: float64"
      ]
     },
     "execution_count": 5,
     "metadata": {},
     "output_type": "execute_result"
    }
   ],
   "source": [
    "s2 = s1.sort_values() # 从小到大 index跟随创建时绑定的数值\n",
    "s2"
   ]
  },
  {
   "cell_type": "code",
   "execution_count": 6,
   "metadata": {},
   "outputs": [
    {
     "data": {
      "text/plain": [
       "0    0.770644\n",
       "4    0.568646\n",
       "3    0.484324\n",
       "6    0.258898\n",
       "9    0.071199\n",
       "8   -0.303107\n",
       "7   -0.460074\n",
       "2   -0.529428\n",
       "5   -1.018802\n",
       "1   -1.183551\n",
       "dtype: float64"
      ]
     },
     "execution_count": 6,
     "metadata": {},
     "output_type": "execute_result"
    }
   ],
   "source": [
    "s2 = s1.sort_values(ascending=False)  # 降序\n",
    "s2  "
   ]
  },
  {
   "cell_type": "code",
   "execution_count": 7,
   "metadata": {},
   "outputs": [
    {
     "data": {
      "text/plain": [
       "0    0.770644\n",
       "1   -1.183551\n",
       "2   -0.529428\n",
       "3    0.484324\n",
       "4    0.568646\n",
       "5   -1.018802\n",
       "6    0.258898\n",
       "7   -0.460074\n",
       "8   -0.303107\n",
       "9    0.071199\n",
       "dtype: float64"
      ]
     },
     "execution_count": 7,
     "metadata": {},
     "output_type": "execute_result"
    }
   ],
   "source": [
    "s2.sort_index()"
   ]
  },
  {
   "cell_type": "code",
   "execution_count": 8,
   "metadata": {},
   "outputs": [
    {
     "data": {
      "text/plain": [
       "9    0.071199\n",
       "8   -0.303107\n",
       "7   -0.460074\n",
       "6    0.258898\n",
       "5   -1.018802\n",
       "4    0.568646\n",
       "3    0.484324\n",
       "2   -0.529428\n",
       "1   -1.183551\n",
       "0    0.770644\n",
       "dtype: float64"
      ]
     },
     "execution_count": 8,
     "metadata": {},
     "output_type": "execute_result"
    }
   ],
   "source": [
    "s2.sort_index(ascending = False)"
   ]
  },
  {
   "cell_type": "markdown",
   "metadata": {},
   "source": [
    "# DataFrame 的排序"
   ]
  },
  {
   "cell_type": "code",
   "execution_count": 9,
   "metadata": {},
   "outputs": [
    {
     "data": {
      "text/html": [
       "<div>\n",
       "<style scoped>\n",
       "    .dataframe tbody tr th:only-of-type {\n",
       "        vertical-align: middle;\n",
       "    }\n",
       "\n",
       "    .dataframe tbody tr th {\n",
       "        vertical-align: top;\n",
       "    }\n",
       "\n",
       "    .dataframe thead th {\n",
       "        text-align: right;\n",
       "    }\n",
       "</style>\n",
       "<table border=\"1\" class=\"dataframe\">\n",
       "  <thead>\n",
       "    <tr style=\"text-align: right;\">\n",
       "      <th></th>\n",
       "      <th>A</th>\n",
       "      <th>B</th>\n",
       "      <th>C</th>\n",
       "      <th>D</th>\n",
       "      <th>E</th>\n",
       "    </tr>\n",
       "  </thead>\n",
       "  <tbody>\n",
       "    <tr>\n",
       "      <th>0</th>\n",
       "      <td>-0.885552</td>\n",
       "      <td>-0.786366</td>\n",
       "      <td>0.710189</td>\n",
       "      <td>-1.819618</td>\n",
       "      <td>-0.667497</td>\n",
       "    </tr>\n",
       "    <tr>\n",
       "      <th>1</th>\n",
       "      <td>0.280105</td>\n",
       "      <td>0.139973</td>\n",
       "      <td>1.703504</td>\n",
       "      <td>-1.121870</td>\n",
       "      <td>2.007045</td>\n",
       "    </tr>\n",
       "    <tr>\n",
       "      <th>2</th>\n",
       "      <td>-0.232201</td>\n",
       "      <td>-0.019742</td>\n",
       "      <td>0.797780</td>\n",
       "      <td>-0.045232</td>\n",
       "      <td>-0.352980</td>\n",
       "    </tr>\n",
       "    <tr>\n",
       "      <th>3</th>\n",
       "      <td>0.018899</td>\n",
       "      <td>-0.001597</td>\n",
       "      <td>-0.416774</td>\n",
       "      <td>-1.321165</td>\n",
       "      <td>-0.584151</td>\n",
       "    </tr>\n",
       "    <tr>\n",
       "      <th>4</th>\n",
       "      <td>0.195902</td>\n",
       "      <td>0.474315</td>\n",
       "      <td>0.009420</td>\n",
       "      <td>-0.983625</td>\n",
       "      <td>-0.450152</td>\n",
       "    </tr>\n",
       "    <tr>\n",
       "      <th>5</th>\n",
       "      <td>-0.423860</td>\n",
       "      <td>1.147589</td>\n",
       "      <td>-1.257218</td>\n",
       "      <td>-0.198340</td>\n",
       "      <td>1.358348</td>\n",
       "    </tr>\n",
       "    <tr>\n",
       "      <th>6</th>\n",
       "      <td>-0.053820</td>\n",
       "      <td>-1.425128</td>\n",
       "      <td>1.025813</td>\n",
       "      <td>-0.037699</td>\n",
       "      <td>-0.436162</td>\n",
       "    </tr>\n",
       "    <tr>\n",
       "      <th>7</th>\n",
       "      <td>0.558891</td>\n",
       "      <td>0.614108</td>\n",
       "      <td>0.995235</td>\n",
       "      <td>-1.838880</td>\n",
       "      <td>0.454646</td>\n",
       "    </tr>\n",
       "  </tbody>\n",
       "</table>\n",
       "</div>"
      ],
      "text/plain": [
       "          A         B         C         D         E\n",
       "0 -0.885552 -0.786366  0.710189 -1.819618 -0.667497\n",
       "1  0.280105  0.139973  1.703504 -1.121870  2.007045\n",
       "2 -0.232201 -0.019742  0.797780 -0.045232 -0.352980\n",
       "3  0.018899 -0.001597 -0.416774 -1.321165 -0.584151\n",
       "4  0.195902  0.474315  0.009420 -0.983625 -0.450152\n",
       "5 -0.423860  1.147589 -1.257218 -0.198340  1.358348\n",
       "6 -0.053820 -1.425128  1.025813 -0.037699 -0.436162\n",
       "7  0.558891  0.614108  0.995235 -1.838880  0.454646"
      ]
     },
     "execution_count": 9,
     "metadata": {},
     "output_type": "execute_result"
    }
   ],
   "source": [
    "df1 = DataFrame(np.random.randn(40).reshape(8,5),columns=[\"A\",\"B\",\"C\",\"D\",\"E\"])\n",
    "df1"
   ]
  },
  {
   "cell_type": "code",
   "execution_count": 10,
   "metadata": {},
   "outputs": [
    {
     "data": {
      "text/plain": [
       "7    0.558891\n",
       "1    0.280105\n",
       "4    0.195902\n",
       "3    0.018899\n",
       "6   -0.053820\n",
       "2   -0.232201\n",
       "5   -0.423860\n",
       "0   -0.885552\n",
       "Name: A, dtype: float64"
      ]
     },
     "execution_count": 10,
     "metadata": {},
     "output_type": "execute_result"
    }
   ],
   "source": [
    "df1[\"A\"].sort_values(ascending = False)"
   ]
  },
  {
   "cell_type": "code",
   "execution_count": 15,
   "metadata": {},
   "outputs": [
    {
     "data": {
      "text/html": [
       "<div>\n",
       "<style scoped>\n",
       "    .dataframe tbody tr th:only-of-type {\n",
       "        vertical-align: middle;\n",
       "    }\n",
       "\n",
       "    .dataframe tbody tr th {\n",
       "        vertical-align: top;\n",
       "    }\n",
       "\n",
       "    .dataframe thead th {\n",
       "        text-align: right;\n",
       "    }\n",
       "</style>\n",
       "<table border=\"1\" class=\"dataframe\">\n",
       "  <thead>\n",
       "    <tr style=\"text-align: right;\">\n",
       "      <th></th>\n",
       "      <th>A</th>\n",
       "      <th>B</th>\n",
       "      <th>C</th>\n",
       "      <th>D</th>\n",
       "      <th>E</th>\n",
       "    </tr>\n",
       "  </thead>\n",
       "  <tbody>\n",
       "    <tr>\n",
       "      <th>0</th>\n",
       "      <td>-0.885552</td>\n",
       "      <td>-0.786366</td>\n",
       "      <td>0.710189</td>\n",
       "      <td>-1.819618</td>\n",
       "      <td>-0.667497</td>\n",
       "    </tr>\n",
       "    <tr>\n",
       "      <th>5</th>\n",
       "      <td>-0.423860</td>\n",
       "      <td>1.147589</td>\n",
       "      <td>-1.257218</td>\n",
       "      <td>-0.198340</td>\n",
       "      <td>1.358348</td>\n",
       "    </tr>\n",
       "    <tr>\n",
       "      <th>2</th>\n",
       "      <td>-0.232201</td>\n",
       "      <td>-0.019742</td>\n",
       "      <td>0.797780</td>\n",
       "      <td>-0.045232</td>\n",
       "      <td>-0.352980</td>\n",
       "    </tr>\n",
       "    <tr>\n",
       "      <th>6</th>\n",
       "      <td>-0.053820</td>\n",
       "      <td>-1.425128</td>\n",
       "      <td>1.025813</td>\n",
       "      <td>-0.037699</td>\n",
       "      <td>-0.436162</td>\n",
       "    </tr>\n",
       "    <tr>\n",
       "      <th>3</th>\n",
       "      <td>0.018899</td>\n",
       "      <td>-0.001597</td>\n",
       "      <td>-0.416774</td>\n",
       "      <td>-1.321165</td>\n",
       "      <td>-0.584151</td>\n",
       "    </tr>\n",
       "    <tr>\n",
       "      <th>4</th>\n",
       "      <td>0.195902</td>\n",
       "      <td>0.474315</td>\n",
       "      <td>0.009420</td>\n",
       "      <td>-0.983625</td>\n",
       "      <td>-0.450152</td>\n",
       "    </tr>\n",
       "    <tr>\n",
       "      <th>1</th>\n",
       "      <td>0.280105</td>\n",
       "      <td>0.139973</td>\n",
       "      <td>1.703504</td>\n",
       "      <td>-1.121870</td>\n",
       "      <td>2.007045</td>\n",
       "    </tr>\n",
       "    <tr>\n",
       "      <th>7</th>\n",
       "      <td>0.558891</td>\n",
       "      <td>0.614108</td>\n",
       "      <td>0.995235</td>\n",
       "      <td>-1.838880</td>\n",
       "      <td>0.454646</td>\n",
       "    </tr>\n",
       "  </tbody>\n",
       "</table>\n",
       "</div>"
      ],
      "text/plain": [
       "          A         B         C         D         E\n",
       "0 -0.885552 -0.786366  0.710189 -1.819618 -0.667497\n",
       "5 -0.423860  1.147589 -1.257218 -0.198340  1.358348\n",
       "2 -0.232201 -0.019742  0.797780 -0.045232 -0.352980\n",
       "6 -0.053820 -1.425128  1.025813 -0.037699 -0.436162\n",
       "3  0.018899 -0.001597 -0.416774 -1.321165 -0.584151\n",
       "4  0.195902  0.474315  0.009420 -0.983625 -0.450152\n",
       "1  0.280105  0.139973  1.703504 -1.121870  2.007045\n",
       "7  0.558891  0.614108  0.995235 -1.838880  0.454646"
      ]
     },
     "execution_count": 15,
     "metadata": {},
     "output_type": "execute_result"
    }
   ],
   "source": [
    "df2 = df1.sort_values(\"A\")  # 对A的series进行排序，同时index也根据对应的数值排列，这样其他列根据index再排序\n",
    "df2"
   ]
  },
  {
   "cell_type": "code",
   "execution_count": 13,
   "metadata": {},
   "outputs": [
    {
     "data": {
      "text/html": [
       "<div>\n",
       "<style scoped>\n",
       "    .dataframe tbody tr th:only-of-type {\n",
       "        vertical-align: middle;\n",
       "    }\n",
       "\n",
       "    .dataframe tbody tr th {\n",
       "        vertical-align: top;\n",
       "    }\n",
       "\n",
       "    .dataframe thead th {\n",
       "        text-align: right;\n",
       "    }\n",
       "</style>\n",
       "<table border=\"1\" class=\"dataframe\">\n",
       "  <thead>\n",
       "    <tr style=\"text-align: right;\">\n",
       "      <th></th>\n",
       "      <th>A</th>\n",
       "      <th>B</th>\n",
       "      <th>C</th>\n",
       "      <th>D</th>\n",
       "      <th>E</th>\n",
       "    </tr>\n",
       "  </thead>\n",
       "  <tbody>\n",
       "    <tr>\n",
       "      <th>0</th>\n",
       "      <td>-0.885552</td>\n",
       "      <td>-0.786366</td>\n",
       "      <td>0.710189</td>\n",
       "      <td>-1.819618</td>\n",
       "      <td>-0.667497</td>\n",
       "    </tr>\n",
       "    <tr>\n",
       "      <th>1</th>\n",
       "      <td>0.280105</td>\n",
       "      <td>0.139973</td>\n",
       "      <td>1.703504</td>\n",
       "      <td>-1.121870</td>\n",
       "      <td>2.007045</td>\n",
       "    </tr>\n",
       "    <tr>\n",
       "      <th>2</th>\n",
       "      <td>-0.232201</td>\n",
       "      <td>-0.019742</td>\n",
       "      <td>0.797780</td>\n",
       "      <td>-0.045232</td>\n",
       "      <td>-0.352980</td>\n",
       "    </tr>\n",
       "    <tr>\n",
       "      <th>3</th>\n",
       "      <td>0.018899</td>\n",
       "      <td>-0.001597</td>\n",
       "      <td>-0.416774</td>\n",
       "      <td>-1.321165</td>\n",
       "      <td>-0.584151</td>\n",
       "    </tr>\n",
       "    <tr>\n",
       "      <th>4</th>\n",
       "      <td>0.195902</td>\n",
       "      <td>0.474315</td>\n",
       "      <td>0.009420</td>\n",
       "      <td>-0.983625</td>\n",
       "      <td>-0.450152</td>\n",
       "    </tr>\n",
       "    <tr>\n",
       "      <th>5</th>\n",
       "      <td>-0.423860</td>\n",
       "      <td>1.147589</td>\n",
       "      <td>-1.257218</td>\n",
       "      <td>-0.198340</td>\n",
       "      <td>1.358348</td>\n",
       "    </tr>\n",
       "    <tr>\n",
       "      <th>6</th>\n",
       "      <td>-0.053820</td>\n",
       "      <td>-1.425128</td>\n",
       "      <td>1.025813</td>\n",
       "      <td>-0.037699</td>\n",
       "      <td>-0.436162</td>\n",
       "    </tr>\n",
       "    <tr>\n",
       "      <th>7</th>\n",
       "      <td>0.558891</td>\n",
       "      <td>0.614108</td>\n",
       "      <td>0.995235</td>\n",
       "      <td>-1.838880</td>\n",
       "      <td>0.454646</td>\n",
       "    </tr>\n",
       "  </tbody>\n",
       "</table>\n",
       "</div>"
      ],
      "text/plain": [
       "          A         B         C         D         E\n",
       "0 -0.885552 -0.786366  0.710189 -1.819618 -0.667497\n",
       "1  0.280105  0.139973  1.703504 -1.121870  2.007045\n",
       "2 -0.232201 -0.019742  0.797780 -0.045232 -0.352980\n",
       "3  0.018899 -0.001597 -0.416774 -1.321165 -0.584151\n",
       "4  0.195902  0.474315  0.009420 -0.983625 -0.450152\n",
       "5 -0.423860  1.147589 -1.257218 -0.198340  1.358348\n",
       "6 -0.053820 -1.425128  1.025813 -0.037699 -0.436162\n",
       "7  0.558891  0.614108  0.995235 -1.838880  0.454646"
      ]
     },
     "execution_count": 13,
     "metadata": {},
     "output_type": "execute_result"
    }
   ],
   "source": [
    "df2.sort_index()  # 和df1 一样"
   ]
  },
  {
   "cell_type": "code",
   "execution_count": 18,
   "metadata": {},
   "outputs": [
    {
     "data": {
      "text/html": [
       "<div>\n",
       "<style scoped>\n",
       "    .dataframe tbody tr th:only-of-type {\n",
       "        vertical-align: middle;\n",
       "    }\n",
       "\n",
       "    .dataframe tbody tr th {\n",
       "        vertical-align: top;\n",
       "    }\n",
       "\n",
       "    .dataframe thead th {\n",
       "        text-align: right;\n",
       "    }\n",
       "</style>\n",
       "<table border=\"1\" class=\"dataframe\">\n",
       "  <thead>\n",
       "    <tr style=\"text-align: right;\">\n",
       "      <th></th>\n",
       "      <th>A</th>\n",
       "      <th>B</th>\n",
       "    </tr>\n",
       "  </thead>\n",
       "  <tbody>\n",
       "    <tr>\n",
       "      <th>0</th>\n",
       "      <td>-0.885552</td>\n",
       "      <td>-0.786366</td>\n",
       "    </tr>\n",
       "    <tr>\n",
       "      <th>5</th>\n",
       "      <td>-0.423860</td>\n",
       "      <td>1.147589</td>\n",
       "    </tr>\n",
       "    <tr>\n",
       "      <th>2</th>\n",
       "      <td>-0.232201</td>\n",
       "      <td>-0.019742</td>\n",
       "    </tr>\n",
       "    <tr>\n",
       "      <th>6</th>\n",
       "      <td>-0.053820</td>\n",
       "      <td>-1.425128</td>\n",
       "    </tr>\n",
       "    <tr>\n",
       "      <th>3</th>\n",
       "      <td>0.018899</td>\n",
       "      <td>-0.001597</td>\n",
       "    </tr>\n",
       "    <tr>\n",
       "      <th>4</th>\n",
       "      <td>0.195902</td>\n",
       "      <td>0.474315</td>\n",
       "    </tr>\n",
       "    <tr>\n",
       "      <th>1</th>\n",
       "      <td>0.280105</td>\n",
       "      <td>0.139973</td>\n",
       "    </tr>\n",
       "    <tr>\n",
       "      <th>7</th>\n",
       "      <td>0.558891</td>\n",
       "      <td>0.614108</td>\n",
       "    </tr>\n",
       "  </tbody>\n",
       "</table>\n",
       "</div>"
      ],
      "text/plain": [
       "          A         B\n",
       "0 -0.885552 -0.786366\n",
       "5 -0.423860  1.147589\n",
       "2 -0.232201 -0.019742\n",
       "6 -0.053820 -1.425128\n",
       "3  0.018899 -0.001597\n",
       "4  0.195902  0.474315\n",
       "1  0.280105  0.139973\n",
       "7  0.558891  0.614108"
      ]
     },
     "execution_count": 18,
     "metadata": {},
     "output_type": "execute_result"
    }
   ],
   "source": [
    "df2[[\"A\",\"B\"]]  # 从dataframe中截取特定的columns"
   ]
  },
  {
   "cell_type": "code",
   "execution_count": 20,
   "metadata": {},
   "outputs": [
    {
     "ename": "SyntaxError",
     "evalue": "invalid syntax (<ipython-input-20-63278843e751>, line 1)",
     "output_type": "error",
     "traceback": [
      "\u001b[1;36m  File \u001b[1;32m\"<ipython-input-20-63278843e751>\"\u001b[1;36m, line \u001b[1;32m1\u001b[0m\n\u001b[1;33m    df2[index = [0,1,2]]\u001b[0m\n\u001b[1;37m              ^\u001b[0m\n\u001b[1;31mSyntaxError\u001b[0m\u001b[1;31m:\u001b[0m invalid syntax\n"
     ]
    }
   ],
   "source": [
    "df2[index = [0,1,2]]  # 目前还不会截取特定的行"
   ]
  },
  {
   "cell_type": "code",
   "execution_count": null,
   "metadata": {},
   "outputs": [],
   "source": []
  }
 ],
 "metadata": {
  "kernelspec": {
   "display_name": "Python 3",
   "language": "python",
   "name": "python3"
  },
  "language_info": {
   "codemirror_mode": {
    "name": "ipython",
    "version": 3
   },
   "file_extension": ".py",
   "mimetype": "text/x-python",
   "name": "python",
   "nbconvert_exporter": "python",
   "pygments_lexer": "ipython3",
   "version": "3.6.5"
  }
 },
 "nbformat": 4,
 "nbformat_minor": 2
}
