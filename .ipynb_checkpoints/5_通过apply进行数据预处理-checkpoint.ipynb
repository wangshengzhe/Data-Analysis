{
 "cells": [
  {
   "cell_type": "code",
   "execution_count": 1,
   "metadata": {},
   "outputs": [],
   "source": [
    "import numpy as np\n",
    "import pandas as pd \n",
    "from pandas import Series,DataFrame"
   ]
  },
  {
   "cell_type": "code",
   "execution_count": 3,
   "metadata": {},
   "outputs": [
    {
     "name": "stdout",
     "output_type": "stream",
     "text": [
      " 驱动器 H 中的卷是 work\n",
      " 卷的序列号是 0E46-0FA7\n",
      "\n",
      " H:\\jupyter\\零基础入门数据分析 的目录\n",
      "\n",
      "2019/02/11  11:02    <DIR>          .\n",
      "2019/02/11  11:02    <DIR>          ..\n",
      "2019/02/11  10:59    <DIR>          .ipynb_checkpoints\n",
      "2019/02/08  23:08    <DIR>          2_numpy\n",
      "2019/02/10  20:20    <DIR>          3_pandas\n",
      "2019/02/11  11:02    <DIR>          4_pandas玩转数据\n",
      "2019/02/08  23:03               570 two_array.npz\n",
      "               1 个文件            570 字节\n",
      "               6 个目录 127,680,958,464 可用字节\n"
     ]
    }
   ],
   "source": [
    "ls"
   ]
  },
  {
   "cell_type": "code",
   "execution_count": null,
   "metadata": {},
   "outputs": [],
   "source": []
  }
 ],
 "metadata": {
  "kernelspec": {
   "display_name": "Python 3",
   "language": "python",
   "name": "python3"
  },
  "language_info": {
   "codemirror_mode": {
    "name": "ipython",
    "version": 3
   },
   "file_extension": ".py",
   "mimetype": "text/x-python",
   "name": "python",
   "nbconvert_exporter": "python",
   "pygments_lexer": "ipython3",
   "version": "3.6.5"
  }
 },
 "nbformat": 4,
 "nbformat_minor": 2
}
